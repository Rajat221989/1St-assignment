{
 "cells": [
  {
   "cell_type": "code",
   "execution_count": null,
   "id": "53e1554a-c45c-4fa0-8f0b-cd0bf225dd67",
   "metadata": {},
   "outputs": [],
   "source": [
    "A1- Guido van Rossum\n",
    "\n",
    "A2- Object-oriented programming,structured & functional programming \n",
    "\n",
    "A3- Yes it is case sensitive\n",
    "\n",
    "A4- .py or .pyi\n",
    "\n",
    "A5- Python is an interpreted language\n",
    "\n",
    "A6- if,elif,else\n",
    "\n",
    "A7-  #\n",
    "\n",
    "A8- python_version()\n",
    "\n",
    "A9- Pip is a package manager for Python that allows you to install additional libraries and packages that are not\n",
    "part of the standard Python library such as the ones found in the Python Package Index.\n",
    "\n",
    "A10- print(),len(),max(),min(),float(),filter(),dict().\n",
    "\n",
    "A11- 79 characters\n",
    "\n",
    "A12- Large developer community,Extensive libraries,Write less/ do more,Portability,Wide range of use cases\n",
    "\n",
    "A13- Memory management in Python involves a private heap containing all Python objects and data structures. The\n",
    "management of this private heap is ensured internally by the Python memory manager. The Python memory manager has \n",
    "different components which deal with various dynamic storage management aspects, like sharing, segmentation,\n",
    "preallocation or caching.\n",
    "\n",
    "A14- Open a browser to the Python website and download the Windows installer. 2. Double click on the downloaded file\n",
    "and install Python for all users, and ensure that Python is added to your path. Click on Install now to begin.\n",
    "     The complete path of python.exe can be added by:\n",
    "        Right-clicking This PC and going to Properties.Clicking on the Advanced system settings in the menu on the left.\n",
    "        Clicking on the Environment Variables button o​n the bottom right.In the System variables section, \n",
    "        selecting the Path variable and clicking on Edit. The next screen will show all the directories \n",
    "        that are currently a part of the PATH variable.Clicking on New and entering Python’s install directory.\n",
    "\n",
    "A15- Each and every object in Python when stored into the memory is being allocated a unique identification number\n",
    "that helps the Python compiler to perform better and utilize memory efficiently. Each object has its own unique \n",
    "identity assigned to it as an integer number which differentiates it from other objects"
   ]
  }
 ],
 "metadata": {
  "kernelspec": {
   "display_name": "Python 3 (ipykernel)",
   "language": "python",
   "name": "python3"
  },
  "language_info": {
   "codemirror_mode": {
    "name": "ipython",
    "version": 3
   },
   "file_extension": ".py",
   "mimetype": "text/x-python",
   "name": "python",
   "nbconvert_exporter": "python",
   "pygments_lexer": "ipython3",
   "version": "3.10.8"
  }
 },
 "nbformat": 4,
 "nbformat_minor": 5
}
