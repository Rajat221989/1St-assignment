{
 "cells": [
  {
   "cell_type": "code",
   "execution_count": null,
   "id": "53e1554a-c45c-4fa0-8f0b-cd0bf225dd67",
   "metadata": {},
   "outputs": [],
   "source": [
    "A1- Guido van Rossum\n",
    "A2- Object-oriented programming,structured & functional programming \n",
    "A3- Yes it is case sensitive\n",
    "A4- .py or .pyi\n",
    "A5- Python is an interpreted language\n",
    "A6- if,elif,else\n",
    "A7-  #\n",
    "A8- python_version()\n",
    "A9- Pip is a package manager for Python that allows you to install additional libraries and packages that are not part of the standard Python library such as the ones found in the Python Package Index.\n",
    "A10- print(),len(),max(),min(),float(),filter(),dict().\n",
    "A11- 79 characters\n",
    "A12- Large developer community,Extensive libraries,Write less/ do more,Portability,Wide range of use cases\n",
    "A13- Memory management in Python involves a private heap containing all Python objects and data structures. The management of this private heap is ensured internally by the Python memory manager. The Python memory manager has different components which deal with various dynamic storage management aspects, like sharing, segmentation, preallocation or caching.\n",
    "A14- Open a browser to the Python website and download the Windows installer. 2. Double click on the downloaded file and install Python for all users, and ensure that Python is added to your path. Click on Install now to begin.\n",
    "     The complete path of python.exe can be added by:\n",
    "\n",
    "Right-clicking This PC and going to Properties.\n",
    "\n",
    "Clicking on the Advanced system settings in the menu on the left.\n",
    "\n",
    "Clicking on the Environment Variables button o​n the bottom right.\n",
    "\n",
    "In the System variables section, selecting the Path variable and clicking on Edit. The next screen will show all the directories that are currently a part of the PATH variable.\n",
    "\n",
    "Clicking on New and entering Python’s install directory.\n",
    "\n",
    "A15- Each and every object in Python when stored into the memory is being allocated a unique identification number that helps the Python compiler to perform better and utilize memory efficiently. Each object has its own unique identity assigned to it as an integer number which differentiates it from other objects"
   ]
  }
 ],
 "metadata": {
  "kernelspec": {
   "display_name": "Python 3 (ipykernel)",
   "language": "python",
   "name": "python3"
  },
  "language_info": {
   "codemirror_mode": {
    "name": "ipython",
    "version": 3
   },
   "file_extension": ".py",
   "mimetype": "text/x-python",
   "name": "python",
   "nbconvert_exporter": "python",
   "pygments_lexer": "ipython3",
   "version": "3.10.8"
  }
 },
 "nbformat": 4,
 "nbformat_minor": 5
}
